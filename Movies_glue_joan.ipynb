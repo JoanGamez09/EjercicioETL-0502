{
	"cells": [
		{
			"cell_type": "markdown",
			"metadata": {
				"editable": true,
				"trusted": true
			},
			"source": [
				"# AWS Glue Studio Notebook\n",
				"\n"
			]
		},
		{
			"cell_type": "markdown",
			"metadata": {},
			"source": [
				"Conexión con la base de datos en Glue Catalog y carga de datos"
			]
		},
		{
			"cell_type": "code",
			"execution_count": 15,
			"metadata": {
				"editable": true,
				"trusted": true,
				"vscode": {
					"languageId": "python_glue_session"
				}
			},
			"outputs": [
				{
					"name": "stdout",
					"output_type": "stream",
					"text": [
						"\n"
					]
				}
			],
			"source": [
				"import sys\n",
				"from awsglue.context import GlueContext\n",
				"from pyspark.context import SparkContext\n",
				"from awsglue.transforms import *\n",
				"\n",
				"glueContext = GlueContext(SparkContext.getOrCreate())\n",
				"\n",
				"# Cargar datos de DynamoDB\n",
				"dyf = glueContext.create_dynamic_frame.from_catalog(database=\"glue_joan\", table_name=\"Peliculas_S3D2_xideral\")\n",
				"\n",
				"df = dyf.toDF()\n",
				"\n"
			]
		},
		{
			"cell_type": "markdown",
			"metadata": {},
			"source": [
				"Hacer consulta de la clasificacion mas repetida de la tabla y cargar los datos en un json alojado en un s3 bucket"
			]
		},
		{
			"cell_type": "code",
			"execution_count": 16,
			"metadata": {
				"tags": [],
				"trusted": true,
				"vscode": {
					"languageId": "python_glue_session"
				}
			},
			"outputs": [
				{
					"name": "stdout",
					"output_type": "stream",
					"text": [
						"\n"
					]
				}
			],
			"source": [
				"result = df.groupBy(\"clasificacion\").count().orderBy(\"count\", ascending=False).limit(1)\n",
				"\n",
				"result.write.mode(\"overwrite\").json(\"s3://joanmoviesbucket/clasificaciones/\")"
			]
		},
		{
			"cell_type": "markdown",
			"metadata": {},
			"source": [
				"Funcion para detectar el tipo de genero de cada pelicula con respecto a su titulo y carga del nuevo campo de genero a una nueva base de datos en DynamoDb"
			]
		},
		{
			"cell_type": "code",
			"execution_count": 22,
			"metadata": {
				"tags": [],
				"trusted": true,
				"vscode": {
					"languageId": "python_glue_session"
				}
			},
			"outputs": [
				{
					"name": "stdout",
					"output_type": "stream",
					"text": [
						"Generos agregados y guardados en la nueva tabla de DynamoDB\n"
					]
				}
			],
			"source": [
				"import sys\n",
				"from pyspark.context import SparkContext\n",
				"from awsglue.context import GlueContext\n",
				"from pyspark.sql.functions import udf\n",
				"from pyspark.sql.types import StringType\n",
				"from awsglue.dynamicframe import DynamicFrame\n",
				"from awsglue.transforms import *\n",
				"\n",
				"# Crear el contexto de Glue\n",
				"glueContext = GlueContext(SparkContext.getOrCreate())\n",
				"\n",
				"# Cargar datos desde DynamoDB usando el Glue Catalog\n",
				"dyf = glueContext.create_dynamic_frame.from_catalog(\n",
				"    database=\"glue_joan\",  # Nombre de la base de datos del Glue Catalog\n",
				"    table_name=\"Peliculas_S3D2_xideral\"  # Nombre de la tabla catalogada\n",
				")\n",
				"\n",
				"# Convertir el DynamicFrame a un DataFrame de Spark para aplicar operaciones de agregación\n",
				"df = dyf.toDF()\n",
				"\n",
				"# Lista de palabras clave por género\n",
				"generos = {\n",
				"    \"Terror\": [\"horror\", \"miedo\", \"scream\", \"pesadilla\", \"exorcista\", \"terror\"],\n",
				"    \"Comedia\": [\"comedia\", \"divertido\", \"loco\", \"gracioso\", \"risa\", \"diversión\"],\n",
				"    \"Acción\": [\"acción\", \"explosión\", \"batalla\", \"venganza\", \"lucha\", \"superhéroe\"],\n",
				"    \"Drama\": [\"drama\", \"historia\", \"tragedia\", \"emocional\", \"triste\", \"familia\"],\n",
				"    \"Ciencia Ficción\": [\"alien\", \"futuro\", \"robot\", \"galaxia\", \"espacio\", \"científico\"],\n",
				"    \"Animación\": [\"animado\", \"dibujos\", \"pixar\", \"disney\", \"animación\", \"familia\"]\n",
				"}\n",
				"\n",
				"# Función para detectar el género basado en el título de la película\n",
				"def detectar_genero(titulo):\n",
				"    for genero, palabras in generos.items():\n",
				"        if any(palabra.lower() in titulo.lower() for palabra in palabras):\n",
				"            return genero\n",
				"    return \"Desconocido\"\n",
				"\n",
				"detectar_genero_udf = udf(detectar_genero, StringType())\n",
				"\n",
				"# Aplicar el UDF a la columna 'nombre' para obtener la columna 'genero'\n",
				"df = df.withColumn(\"genero\", detectar_genero_udf(df[\"nombre\"]))\n",
				"\n",
				"# Convertir de nuevo a DynamicFrame para escribir en DynamoDB\n",
				"dyf_generos = DynamicFrame.fromDF(df, glueContext, \"dyf_generos\")\n",
				"\n",
				"glueContext.write_dynamic_frame.from_options(\n",
				"    dyf_generos, \n",
				"    connection_type=\"dynamodb\", \n",
				"    connection_options={\"tableName\": \"Peliculas_Generos_Joan\", \"createTable\": \"false\"}\n",
				")\n",
				"\n",
				"print(\"Generos agregados y guardados en la nueva tabla de DynamoDB\")\n",
				"\n",
				"\n"
			]
		}
	],
	"metadata": {
		"kernelspec": {
			"display_name": "Glue PySpark",
			"language": "python",
			"name": "glue_pyspark"
		},
		"language_info": {
			"codemirror_mode": {
				"name": "python",
				"version": 3
			},
			"file_extension": ".py",
			"mimetype": "text/x-python",
			"name": "Python_Glue_Session",
			"pygments_lexer": "python3"
		}
	},
	"nbformat": 4,
	"nbformat_minor": 4
}
